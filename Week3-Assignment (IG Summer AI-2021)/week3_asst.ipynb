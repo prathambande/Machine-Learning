{
 "cells": [
  {
   "cell_type": "code",
   "execution_count": 38,
   "id": "c05a117e",
   "metadata": {},
   "outputs": [],
   "source": [
    "import numpy as np #for computational purposes\n",
    "import matplotlib.pyplot as plt\n",
    "import seaborn as sns #statistical data visualization\n",
    "sns.set(style='whitegrid')\n",
    "import pandas as pd #for CSV file I/O, data processing(e.g. pd.read_csv)\n",
    "%matplotlib inline\n",
    "from sklearn.metrics import accuracy_score"
   ]
  },
  {
   "cell_type": "markdown",
   "id": "40003f3e",
   "metadata": {},
   "source": [
    "you are given iris dataset\n",
    "#https://gist.githubusercontent.com/curran/a08a1080b88344b0c8a7/raw/639388c2cbc2120a14dcf466e85730eb8be498bb/iris.csv\n",
    "#link to download the CSV file\n",
    "\n",
    "iris dataset includes three iris species with 50 samples each as well as some properties about each flower. One flower species is linearly separable from the other two, but the other two are not linearly separable from each other."
   ]
  },
  {
   "cell_type": "code",
   "execution_count": 39,
   "id": "0df1fc34",
   "metadata": {},
   "outputs": [
    {
     "data": {
      "text/html": [
       "<div>\n",
       "<style scoped>\n",
       "    .dataframe tbody tr th:only-of-type {\n",
       "        vertical-align: middle;\n",
       "    }\n",
       "\n",
       "    .dataframe tbody tr th {\n",
       "        vertical-align: top;\n",
       "    }\n",
       "\n",
       "    .dataframe thead th {\n",
       "        text-align: right;\n",
       "    }\n",
       "</style>\n",
       "<table border=\"1\" class=\"dataframe\">\n",
       "  <thead>\n",
       "    <tr style=\"text-align: right;\">\n",
       "      <th></th>\n",
       "      <th>sepal_length</th>\n",
       "      <th>sepal_width</th>\n",
       "      <th>petal_length</th>\n",
       "      <th>petal_width</th>\n",
       "      <th>species</th>\n",
       "    </tr>\n",
       "  </thead>\n",
       "  <tbody>\n",
       "    <tr>\n",
       "      <th>0</th>\n",
       "      <td>5.1</td>\n",
       "      <td>3.5</td>\n",
       "      <td>1.4</td>\n",
       "      <td>0.2</td>\n",
       "      <td>setosa</td>\n",
       "    </tr>\n",
       "    <tr>\n",
       "      <th>1</th>\n",
       "      <td>4.9</td>\n",
       "      <td>3.0</td>\n",
       "      <td>1.4</td>\n",
       "      <td>0.2</td>\n",
       "      <td>setosa</td>\n",
       "    </tr>\n",
       "    <tr>\n",
       "      <th>2</th>\n",
       "      <td>4.7</td>\n",
       "      <td>3.2</td>\n",
       "      <td>1.3</td>\n",
       "      <td>0.2</td>\n",
       "      <td>setosa</td>\n",
       "    </tr>\n",
       "    <tr>\n",
       "      <th>3</th>\n",
       "      <td>4.6</td>\n",
       "      <td>3.1</td>\n",
       "      <td>1.5</td>\n",
       "      <td>0.2</td>\n",
       "      <td>setosa</td>\n",
       "    </tr>\n",
       "    <tr>\n",
       "      <th>4</th>\n",
       "      <td>5.0</td>\n",
       "      <td>3.6</td>\n",
       "      <td>1.4</td>\n",
       "      <td>0.2</td>\n",
       "      <td>setosa</td>\n",
       "    </tr>\n",
       "  </tbody>\n",
       "</table>\n",
       "</div>"
      ],
      "text/plain": [
       "   sepal_length  sepal_width  petal_length  petal_width species\n",
       "0           5.1          3.5           1.4          0.2  setosa\n",
       "1           4.9          3.0           1.4          0.2  setosa\n",
       "2           4.7          3.2           1.3          0.2  setosa\n",
       "3           4.6          3.1           1.5          0.2  setosa\n",
       "4           5.0          3.6           1.4          0.2  setosa"
      ]
     },
     "execution_count": 39,
     "metadata": {},
     "output_type": "execute_result"
    }
   ],
   "source": [
    "# load data (download from the link or from the google drive)\n",
    "# 1 LINE-------------\n",
    "\n",
    "Iris.head()"
   ]
  },
  {
   "cell_type": "markdown",
   "id": "2076b4f6",
   "metadata": {},
   "source": [
    "for perform binary classification using Logistic Regression we will only include first 100 samples which consists of irises’ (Setosa and Versicolour)\n",
    "Then, these must be replaced by 0/1 i.e\n",
    "replace 'Iris-setosa' as 0\n",
    "replace 'Iris-versicolor' as 1"
   ]
  },
  {
   "cell_type": "code",
   "execution_count": 40,
   "id": "6c08d98e",
   "metadata": {},
   "outputs": [
    {
     "data": {
      "text/plain": [
       "(100, 5)"
      ]
     },
     "execution_count": 40,
     "metadata": {},
     "output_type": "execute_result"
    }
   ],
   "source": [
    "# 1 LINE-------------\n",
    "\n",
    "\n",
    "Iris.shape"
   ]
  },
  {
   "cell_type": "code",
   "execution_count": 41,
   "id": "9b978862",
   "metadata": {},
   "outputs": [],
   "source": [
    "#REPLACE W 0/1\n",
    "# 1 LINE-------------\n"
   ]
  },
  {
   "cell_type": "markdown",
   "id": "a090e7c1",
   "metadata": {},
   "source": [
    "to understand the decision boundary between the two classes, create a scatter plot of the two scores and use color coding to visualize"
   ]
  },
  {
   "cell_type": "code",
   "execution_count": 42,
   "id": "61e98c8d",
   "metadata": {},
   "outputs": [
    {
     "data": {
      "text/plain": [
       "<matplotlib.legend.Legend at 0x14b67fa1970>"
      ]
     },
     "execution_count": 42,
     "metadata": {},
     "output_type": "execute_result"
    },
    {
     "data": {
      "image/png": "[encoded data removed]",
      "text/plain": [
       "<Figure size 432x288 with 1 Axes>"
      ]
     },
     "metadata": {
      "needs_background": "light"
     },
     "output_type": "display_data"
    }
   ],
   "source": [
    "#visualization of given dataset\n",
    "# ~4 LINES-----------------\n",
    "\n",
    "\n",
    "plt.legend(loc='best')"
   ]
  },
  {
   "cell_type": "code",
   "execution_count": 43,
   "id": "6ffb4ab5",
   "metadata": {},
   "outputs": [
    {
     "name": "stdout",
     "output_type": "stream",
     "text": [
      "(100, 4)\n",
      "(100,)\n"
     ]
    }
   ],
   "source": [
    "X = Iris.drop(labels=['species'], axis=1).values #features\n",
    "Y = np.array(Iris.species.values) #output\n",
    "\n",
    "print(X.shape)\n",
    "print(Y.shape)"
   ]
  },
  {
   "cell_type": "code",
   "execution_count": 44,
   "id": "638de35e",
   "metadata": {},
   "outputs": [],
   "source": [
    "'''Step 3: Split data\n",
    "trainset: 80%\n",
    "testset: 20%'''\n",
    "# after setting seed for numpy, randomnly select 80% of the indices under variable train_index and rest under test_index\n",
    "seed = 5\n",
    "#1 LINE(SET SEED)-------------\n",
    "\n",
    "\n",
    "#1 LINE(RANDOM SELECTION)-----------------------------------------------\n",
    "train_index = #CODE HERE\n",
    "\n",
    "test_index = np.array(list(set(range(len(X))) - set(train_index)))"
   ]
  },
  {
   "cell_type": "code",
   "execution_count": 45,
   "id": "a185f121",
   "metadata": {},
   "outputs": [
    {
     "data": {
      "text/plain": [
       "(80, 4)"
      ]
     },
     "execution_count": 45,
     "metadata": {},
     "output_type": "execute_result"
    }
   ],
   "source": [
    "train_X = X[train_index]\n",
    "train_y = Y[train_index]\n",
    "test_X = X[test_index]\n",
    "test_y = Y[test_index]\n",
    "\n",
    "train_X.shape"
   ]
  },
  {
   "cell_type": "markdown",
   "id": "9a1fc692",
   "metadata": {},
   "source": [
    "Now implement logistic regression so we can train a model to predict the outcome. Follow below steps:\n",
    "- Define the model structure (such as number of input features)\n",
    "- Initialize the model's parameters\n",
    "- Loop:\n",
    "    Calculate cost\n",
    "    Calculate current gradient (backward propagation)\n",
    "    Update parameters (gradient descent)\n",
    "    \n",
    "First complete the sigmoid function required to calculate cost and gradient."
   ]
  },
  {
   "cell_type": "code",
   "execution_count": 46,
   "id": "a0c0d4dc",
   "metadata": {},
   "outputs": [],
   "source": [
    "def sigmoid(x):\n",
    "    \"\"\"\n",
    "    Compute the sigmoid of z\n",
    "\n",
    "    Arguments:\n",
    "    z -- A scalar or numpy array of any size.\n",
    "\n",
    "    Return:\n",
    "    s -- sigmoid(z)\n",
    "    \"\"\"\n",
    "\n",
    "    # CODE FOR SIGMOID AND RETURN(2 LINES)-------------------------------------\n",
    "    "
   ]
  },
  {
   "cell_type": "code",
   "execution_count": 47,
   "id": "4d637938",
   "metadata": {},
   "outputs": [],
   "source": [
    "def initialize_with_zeros(dim):\n",
    "    \"\"\"\n",
    "    This function creates a vector of zeros of shape (1, dim) for w and initializes b to 0.\n",
    "    Since our example is a very simple one, we will take up initialisation to zero.\n",
    "    \n",
    "    Argument:\n",
    "    dim -- size of the w vector we want (or number of features in iris dataset(here))\n",
    "    \n",
    "    Returns:\n",
    "    w -- initialized vector of shape (1, dim)\n",
    "    b -- initialized scalar (corresponds to the bias)\n",
    "    \"\"\"\n",
    "    \n",
    "    # ~2-3 LINES(INITIALIZE AND RETURN)---------------------\n",
    "   "
   ]
  },
  {
   "cell_type": "markdown",
   "id": "4d1a3a78",
   "metadata": {},
   "source": [
    "implement cost function calc and gradient calc in the same function below"
   ]
  },
  {
   "cell_type": "code",
   "execution_count": 48,
   "id": "95ba2976",
   "metadata": {},
   "outputs": [],
   "source": [
    "def propagation(w, b, X, Y):\n",
    "    \"\"\"\n",
    "    Implement the cost function and its gradient for the propagation explained above\n",
    "\n",
    "    Arguments:\n",
    "    w -- weights, a numpy array of size (1,f); *there are 4 features here so f should be 4*\n",
    "    b -- bias, a scalar\n",
    "    X -- data of size (number of examples, f)\n",
    "    Y -- true \"label\" vector (containing 0 if setosa, 1 if versicolor) of size (number of examples, 1)\n",
    "\n",
    "    Return:\n",
    "    cost -- negative log-likelihood cost for logistic regression\n",
    "    dw -- gradient of the loss with respect to w, thus same shape as w\n",
    "    db -- gradient of the loss with respect to b, thus same shape as b\n",
    "    \n",
    "    Tips:\n",
    "    - Write your code step by step for the propagation. USE np.log(), np.dot()\n",
    "    \"\"\"\n",
    "    \n",
    "    m = X.shape[0]\n",
    "    \n",
    "    # FORWARD PROPAGATION (FROM X TO COST)\n",
    "    # Log-likelihood, but with a negative sign, because with gradient descent, we look to minimising the loss function, which in our case is the log-likelihood\n",
    "    # ~3 LINES--------------------------------------------------------\n",
    "    \n",
    "    \n",
    "    # BACKWARD PROPAGATION (TO FIND GRAD)\n",
    "    # 2 LINES(dw,db calc)----------------------------------------------\n",
    "    \n",
    "    \n",
    "    grads = {\"dw\": dw,\n",
    "             \"db\": db}\n",
    "    return grads, cost"
   ]
  },
  {
   "cell_type": "markdown",
   "id": "4b80f562",
   "metadata": {},
   "source": [
    "now complete the optimize function for obtaining optmial parameters of w and b, using gradient descent"
   ]
  },
  {
   "cell_type": "code",
   "execution_count": 49,
   "id": "06cca5cc",
   "metadata": {},
   "outputs": [],
   "source": [
    "def optimize(w, b, X, Y, num_iterations, learning_rate, print_cost = False):\n",
    "    \"\"\"\n",
    "    num_iterations -- number of iterations of the optimization loop\n",
    "    learning_rate -- learning rate of the gradient descent update rule\n",
    "    print_cost -- to print the loss every 50 steps\n",
    "    \n",
    "    Returns:\n",
    "    params -- dictionary containing the weights w and bias b\n",
    "    grads -- dictionary containing the gradients of the weights and bias with respect to the cost function\n",
    "    costs -- list of all the costs computed during the optimization, this will be used to plot the learning curve.\n",
    "    \"\"\"\n",
    "    costs = []\n",
    "    \n",
    "    for i in range(num_iterations):\n",
    "        \n",
    "        \n",
    "        # Cost and gradient calculation( FROM PROPOGATION FUNCITON)\n",
    "        # 1LINE--------------------------------------------------------\n",
    "        \n",
    "        \n",
    "        # Retrieve derivatives from grads\n",
    "        dw = \n",
    "        db = \n",
    "        \n",
    "        #UPDATE PARAMS\n",
    "        # 2 LINES------------------------------------------------------\n",
    "        \n",
    "        \n",
    "        # Record the costs\n",
    "        if i % 50 == 0:\n",
    "            costs.append(cost)\n",
    "        \n",
    "        # Print the cost every 100 training examples\n",
    "        if print_cost and i % 50 == 0:\n",
    "            print (\"Cost after iteration %i: %f\" %(i, cost))\n",
    "    \n",
    "    params = {\"w\": w,\n",
    "              \"b\": b}\n",
    "    \n",
    "    grads = {\"dw\": dw,\n",
    "             \"db\": db}\n",
    "    \n",
    "    return params, grads, costs"
   ]
  },
  {
   "cell_type": "code",
   "execution_count": 50,
   "id": "72b989b8",
   "metadata": {},
   "outputs": [],
   "source": [
    "def predict(A, m):\n",
    "    '''\n",
    "    Predict whether the label is 0 or 1 using learned logistic regression parameters (w, b)\n",
    "    \n",
    "    Arguments:\n",
    "    A -- vector containing probabilities\n",
    "    m -- number of examples\n",
    "    \n",
    "    Returns:\n",
    "    Y_prediction -- a numpy array (vector) containing all predictions (0/1) for the examples in X\n",
    "    '''\n",
    "    \n",
    "    Y_prediction = np.zeros((1,m))\n",
    "    \n",
    "    for i in range(A.shape[1]):\n",
    "        \n",
    "        # Convert probabilities A[0,i] to actual predictions p[0,i], ASSUME THRESHOLD=0.5\n",
    "        # ~4 LINES------------------------------------------------\n",
    "       \n",
    "    \n",
    "    return Y_prediction"
   ]
  },
  {
   "cell_type": "code",
   "execution_count": 51,
   "id": "e37263a5",
   "metadata": {},
   "outputs": [
    {
     "name": "stdout",
     "output_type": "stream",
     "text": [
      "Number of Features 4\n",
      "Cost after iteration 0: 0.693147\n",
      "Cost after iteration 50: 0.690763\n",
      "Cost after iteration 100: 0.688405\n",
      "Cost after iteration 150: 0.686070\n",
      "Cost after iteration 200: 0.683757\n",
      "Cost after iteration 250: 0.681466\n",
      "Cost after iteration 300: 0.679193\n",
      "Cost after iteration 350: 0.676940\n",
      "Optimized weights [[-0.00021059 -0.0112025   0.02278086  0.00948211]]\n",
      "Optimized intercept -0.00167315786533413\n",
      "Training Accuracy 0.9375\n",
      "Test Accuracy 0.9\n"
     ]
    }
   ],
   "source": [
    "def model(X_train, Y_train, X_test, Y_test, num_iterations = 2000, learning_rate = 0.5, print_cost = False):\n",
    "    \"\"\"\n",
    "    Builds the logistic regression model by calling the functions\n",
    "    \n",
    "    Arguments:\n",
    "    X_train -- training set \n",
    "    Y_train -- training labels\n",
    "    X_test -- test set \n",
    "    Y_test -- test labels \n",
    "    num_iterations -- hyperparameter representing the number of iterations to optimize the parameters\n",
    "    learning_rate -- hyperparameter representing the learning rate used in the update rule of optimize()\n",
    "    print_cost -- Set to False to print the cost every 100 iterations\n",
    "    \n",
    "    Returns:\n",
    "    d -- dictionary containing information about the model.\n",
    "    \"\"\"\n",
    "    \n",
    "    n_features = X_train.shape[1]\n",
    "    print('Number of Features', n_features)\n",
    "    \n",
    "    # initialize parameters with zeros\n",
    "    # 1LINE-----------------------------------------------------\n",
    "    \n",
    "\n",
    "    # Gradient descent \n",
    "    # 1 linE-----------------------------------------------------------\n",
    "    \n",
    "    \n",
    "    # Retrieve parameters w and b from dictionary \"parameters\" defined in the above line\n",
    "    #2 lines-----------------------------------------------------------\n",
    "    \n",
    "    \n",
    "    print('Optimized weights', w)\n",
    "    print('Optimized intercept',b)\n",
    "    \n",
    "    # probability vector using sigmoid of model\n",
    "    # 2 LINES--------------------------------------------------------------------\n",
    "    \n",
    "    \n",
    "    m_tr =  X_train.shape[0]\n",
    "    m_ts =  X_test.shape[0]\n",
    "    \n",
    "\n",
    "    # Get Training Accuracy\n",
    "    # 1LINE--------------------------------------------------------------\n",
    "    y_tr_pred = #code here\n",
    "    print('Training Accuracy',accuracy_score(y_tr_pred.T, Y_train))\n",
    "\n",
    "    # Get Testing Accuracy\n",
    "    # 1LINE----------------------------------------------------------\n",
    "    y_ts_pred = #code here\n",
    "    print('Test Accuracy',accuracy_score(y_ts_pred.T, Y_test)) \n",
    "    \n",
    "    d = {\"costs\": costs,\n",
    "         \"Y_prediction_test\": y_tr_pred, \n",
    "         \"Y_prediction_train\" : y_ts_pred, \n",
    "         \"w\" : w, \n",
    "         \"b\" : b,\n",
    "         \"learning_rate\" : learning_rate,\n",
    "         \"num_iterations\": num_iterations}\n",
    "    \n",
    "    return d\n",
    "\n",
    "#TRAIN YOUR LOGISTIC REGRESSION MODEL\n",
    "# 1 LINE (CALL MODEL FUNC)-------------------------------------------------------------------"
   ]
  },
  {
   "cell_type": "code",
   "execution_count": 52,
   "id": "5d2d7503",
   "metadata": {},
   "outputs": [
    {
     "data": {
      "image/png": "[encoded data removed]",
      "text/plain": [
       "<Figure size 432x288 with 1 Axes>"
      ]
     },
     "metadata": {
      "needs_background": "light"
     },
     "output_type": "display_data"
    }
   ],
   "source": [
    "# Plot learning curve (with costs)\n",
    "# ~5LINES---------------------------------------------------------------------------\n",
    "\n",
    "plt.show()"
   ]
  },
  {
   "cell_type": "code",
   "execution_count": null,
   "id": "6e3ddca0",
   "metadata": {},
   "outputs": [],
   "source": []
  }
 ],
 "metadata": {
  "kernelspec": {
   "display_name": "Python 3",
   "language": "python",
   "name": "python3"
  },
  "language_info": {
   "codemirror_mode": {
    "name": "ipython",
    "version": 3
   },
   "file_extension": ".py",
   "mimetype": "text/x-python",
   "name": "python",
   "nbconvert_exporter": "python",
   "pygments_lexer": "ipython3",
   "version": "3.8.8"
  }
 },
 "nbformat": 4,
 "nbformat_minor": 5
}
