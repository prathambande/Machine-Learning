{
  "nbformat": 4,
  "nbformat_minor": 0,
  "metadata": {
    "colab": {
      "name": "Copy of Python lib assignment.ipynb",
      "provenance": [],
      "collapsed_sections": []
    },
    "kernelspec": {
      "name": "python3",
      "display_name": "Python 3"
    },
    "language_info": {
      "name": "python"
    }
  },
  "cells": [
    {
      "cell_type": "markdown",
      "metadata": {
        "id": "zA6icE7UW_-k"
      },
      "source": [
        "Note: \n",
        "\n",
        "* Before writing any code remember that this assigment is for helping you to get familiar with the python libraries we frequently use \n",
        "\n",
        "* This project is designed to have a work flow such that everyone is in same page for this purpose the variables are\n",
        "given a strict name which should not be changed or modified according to your convinience\n",
        "\n",
        "* Few of new functions like .head() .xticks().... and concepts may have been introduced in the assingment, so we encourage you\n",
        "all to go through them without skipping.\n",
        "\n",
        "* You will be using Pandas,Numpy,Matplotlib in this assignment, so if you're not familiar with some functions, you may refer their documentations\n",
        "\n",
        "Task:\n",
        "\n",
        "\n",
        "*   Your given a dataset **countries-aggregated.csv**file which contains the daily data of global covid confirmed,recovered and death cases.\n",
        "*   Your task is to process the data extract the required information form it and visualise the data using the python libraries you learnt in this week\n",
        "\n",
        "\n"
      ]
    },
    {
      "cell_type": "code",
      "metadata": {
        "id": "27PlEmId7Six",
        "colab": {
          "resources": {
            "http://localhost:8080/nbextensions/google.colab/files.js": {
              "data": "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",
              "ok": true,
              "headers": [
                [
                  "content-type",
                  "application/javascript"
                ]
              ],
              "status": 200,
              "status_text": ""
            }
          },
          "base_uri": "https://localhost:8080/",
          "height": 73
        },
        "outputId": "6b4c5475-a3af-4426-8454-231fa9cf55fd"
      },
      "source": [
        "#Import necessary libraries\n",
        "import pandas as pd\n",
        "import io\n",
        "\n",
        "from google.colab import files\n",
        "uploaded = files.upload()"
      ],
      "execution_count": 1,
      "outputs": [
        {
          "output_type": "display_data",
          "data": {
            "text/html": [
              "\n",
              "     <input type=\"file\" id=\"files-67c4d78e-aa33-49ee-a8cb-6214f5e56050\" name=\"files[]\" multiple disabled\n",
              "        style=\"border:none\" />\n",
              "     <output id=\"result-67c4d78e-aa33-49ee-a8cb-6214f5e56050\">\n",
              "      Upload widget is only available when the cell has been executed in the\n",
              "      current browser session. Please rerun this cell to enable.\n",
              "      </output>\n",
              "      <script src=\"/nbextensions/google.colab/files.js\"></script> "
            ],
            "text/plain": [
              "<IPython.core.display.HTML object>"
            ]
          },
          "metadata": {
            "tags": []
          }
        },
        {
          "output_type": "stream",
          "text": [
            "Saving countries-aggregated.csv to countries-aggregated (1).csv\n"
          ],
          "name": "stdout"
        }
      ]
    },
    {
      "cell_type": "code",
      "metadata": {
        "id": "ewZ4wWmx7lr8",
        "colab": {
          "base_uri": "https://localhost:8080/"
        },
        "outputId": "f2ca1b17-b441-45dd-f62b-fa868d43dcf3"
      },
      "source": [
        "#read countries-aggregated.csv file from provided dataset into a df_world named variable\n",
        "'''\n",
        "link for csv file\n",
        "\n",
        "https://drive.google.com/file/d/1BN0Bi7EO7F3ZGy3HIbpSN9zH31cxTmqk/view?usp=sharing\n",
        "\n",
        "'''\n",
        "#Note: Proper file directory should be provided\n",
        "'''************************Your code here**********************'''\n",
        "df_world = pd.read_csv(io.BytesIO(uploaded['countries-aggregated.csv']))\n",
        "print(df_world)"
      ],
      "execution_count": 2,
      "outputs": [
        {
          "output_type": "stream",
          "text": [
            "             Date      Country  Confirmed  Recovered  Deaths\n",
            "0      2020-01-22  Afghanistan          0          0       0\n",
            "1      2020-01-23  Afghanistan          0          0       0\n",
            "2      2020-01-24  Afghanistan          0          0       0\n",
            "3      2020-01-25  Afghanistan          0          0       0\n",
            "4      2020-01-26  Afghanistan          0          0       0\n",
            "...           ...          ...        ...        ...     ...\n",
            "85243  2021-04-05     Zimbabwe      36934      34758    1525\n",
            "85244  2021-04-06     Zimbabwe      36966      34781    1531\n",
            "85245  2021-04-07     Zimbabwe      36984      34803    1531\n",
            "85246  2021-04-08     Zimbabwe      37052      34814    1532\n",
            "85247  2021-04-09     Zimbabwe      37147      34831    1535\n",
            "\n",
            "[85248 rows x 5 columns]\n"
          ],
          "name": "stdout"
        }
      ]
    },
    {
      "cell_type": "code",
      "metadata": {
        "colab": {
          "base_uri": "https://localhost:8080/"
        },
        "id": "UnZXt-deao95",
        "outputId": "24ef3fa3-9bbd-4c84-97b2-11b3f954757c"
      },
      "source": [
        " #Display first five data points\n",
        " print(df_world.head(5))\n"
      ],
      "execution_count": 3,
      "outputs": [
        {
          "output_type": "stream",
          "text": [
            "         Date      Country  Confirmed  Recovered  Deaths\n",
            "0  2020-01-22  Afghanistan          0          0       0\n",
            "1  2020-01-23  Afghanistan          0          0       0\n",
            "2  2020-01-24  Afghanistan          0          0       0\n",
            "3  2020-01-25  Afghanistan          0          0       0\n",
            "4  2020-01-26  Afghanistan          0          0       0\n"
          ],
          "name": "stdout"
        }
      ]
    },
    {
      "cell_type": "markdown",
      "metadata": {
        "id": "F-EdNZUwbWnB"
      },
      "source": [
        "Task 1:\n",
        "\n",
        "\n",
        "1.   Get the data of 20 most affected countries by covid 19\n",
        "2.   Plot a bar plot showing Confirmed,Recovered and Deaths for these 20 countries\n",
        "\n"
      ]
    },
    {
      "cell_type": "code",
      "metadata": {
        "colab": {
          "base_uri": "https://localhost:8080/"
        },
        "id": "cktB9S_xayGR",
        "outputId": "69a43589-328a-43cf-dfec-5f99b8c8ff52"
      },
      "source": [
        "  ''' \n",
        "    \n",
        "  Obtain total number of confirmed,recovered and deaths for each country registered upto 2021-04-09 and store it in df_country\n",
        "    \n",
        "    \n",
        "  '''\n",
        " \n",
        "  '''************************Your code here**********************'''\n",
        "\n",
        "\n",
        "df_country= df_world[df_world['Date']=='2021-04-09']#[['Date', 'Country', 'Confirmed', 'Recovered','Deaths']]\n",
        "print(df_country)"
      ],
      "execution_count": 4,
      "outputs": [
        {
          "output_type": "stream",
          "text": [
            "             Date             Country  Confirmed  Recovered  Deaths\n",
            "443    2021-04-09         Afghanistan      57019      51961    2521\n",
            "887    2021-04-09             Albania     127795      96672    2304\n",
            "1331   2021-04-09             Algeria     118251      82392    3123\n",
            "1775   2021-04-09             Andorra      12456      11732     120\n",
            "2219   2021-04-09              Angola      23242      21589     549\n",
            "...           ...                 ...        ...        ...     ...\n",
            "83471  2021-04-09             Vietnam       2683       2429      35\n",
            "83915  2021-04-09  West Bank and Gaza     264395     229876    2812\n",
            "84359  2021-04-09               Yemen       5233       1987    1022\n",
            "84803  2021-04-09              Zambia      89783      85559    1226\n",
            "85247  2021-04-09            Zimbabwe      37147      34831    1535\n",
            "\n",
            "[192 rows x 5 columns]\n"
          ],
          "name": "stdout"
        }
      ]
    },
    {
      "cell_type": "code",
      "metadata": {
        "id": "4O-t6QOG7u-s",
        "colab": {
          "base_uri": "https://localhost:8080/"
        },
        "outputId": "fbd0f17c-8f49-4435-b932-6215c4f85ed4"
      },
      "source": [
        " #Display first five data points\n",
        "\n",
        "dffdp = df_world[df_world['Date']=='2021-01-01']\n",
        "print(dffdp.head(5))"
      ],
      "execution_count": 5,
      "outputs": [
        {
          "output_type": "stream",
          "text": [
            "            Date      Country  Confirmed  Recovered  Deaths\n",
            "345   2021-01-01  Afghanistan      51526      41727    2191\n",
            "789   2021-01-01      Albania      58316      33634    1181\n",
            "1233  2021-01-01      Algeria      99897      67395    2762\n",
            "1677  2021-01-01      Andorra       8117       7463      84\n",
            "2121  2021-01-01       Angola      17568      11146     405\n"
          ],
          "name": "stdout"
        }
      ]
    },
    {
      "cell_type": "code",
      "metadata": {
        "id": "DD0cY5u78J4t"
      },
      "source": [
        "#Obtain top 20 affected countries and store them in top_20\n",
        "\n",
        "'''************************Your code here**********************'''\n",
        "latest = df_world[df_world['Date']=='2021-04-09']\n",
        "top_20 = latest.sort_values(by='Confirmed', ascending=False)[:20]"
      ],
      "execution_count": 6,
      "outputs": []
    },
    {
      "cell_type": "code",
      "metadata": {
        "colab": {
          "base_uri": "https://localhost:8080/"
        },
        "id": "Ab2LYxDL9ElH",
        "outputId": "946c60a5-0c19-454a-a895-4c010bafd17a"
      },
      "source": [
        "print(top_20)"
      ],
      "execution_count": 7,
      "outputs": [
        {
          "output_type": "stream",
          "text": [
            "             Date         Country  Confirmed  Recovered  Deaths\n",
            "79475  2021-04-09              US   31084065          0  561058\n",
            "10655  2021-04-09          Brazil   13373174   11722181  348718\n",
            "35519  2021-04-09           India   13060542   11913292  167642\n",
            "27971  2021-04-09          France    5000314     312540   98202\n",
            "63491  2021-04-09          Russia    4572053    4200282  100554\n",
            "81251  2021-04-09  United Kingdom    4380167      13467  127284\n",
            "79031  2021-04-09          Turkey    3745657    3268678   33454\n",
            "38183  2021-04-09           Italy    3736526    3086586  113579\n",
            "72371  2021-04-09           Spain    3347512     150376   76328\n",
            "29747  2021-04-09         Germany    2990724    2654930   78295\n",
            "61715  2021-04-09          Poland    2528006    2107776   57427\n",
            "16871  2021-04-09        Colombia    2504206    2365566   65283\n",
            "3107   2021-04-09       Argentina    2497881    2203926   57350\n",
            "51059  2021-04-09          Mexico    2272064    1765244  207020\n",
            "36407  2021-04-09            Iran    2029412    1693005   64039\n",
            "80363  2021-04-09         Ukraine    1875605    1443522   38074\n",
            "60827  2021-04-09            Peru    1628519    1547807   54285\n",
            "20867  2021-04-09         Czechia    1573153    1437295   27617\n",
            "35963  2021-04-09       Indonesia    1558145    1405659   42348\n",
            "71483  2021-04-09    South Africa    1556242    1481637   53226\n"
          ],
          "name": "stdout"
        }
      ]
    },
    {
      "cell_type": "code",
      "metadata": {
        "colab": {
          "base_uri": "https://localhost:8080/",
          "height": 378
        },
        "id": "AqdRaSlp9dki",
        "outputId": "6d9d003c-d07e-444b-8fa8-7870851913d5"
      },
      "source": [
        "#bar plot\n",
        "import numpy as np\n",
        "import matplotlib.pyplot as plt\n",
        "width = 0.15\n",
        "# plt.bar(top_20['Country'],top_20['Confirmed'], width = width, edgecolor ='blue')\n",
        "# plt.bar(top_20['Country'],top_20['Recovered'], width = width, edgecolor ='orange')\n",
        "# plt.bar(top_20['Country'],top_20['Deaths'], width = width, edgecolor ='green')\n",
        "tot = len(top_20['Country'])\n",
        "conf = top_20['Confirmed']\n",
        "rec = top_20['Recovered']\n",
        "death = top_20['Deaths']\n",
        "total = np.arange(tot)\n",
        "plt.bar(total,conf,width=width,label=\"Confirmed\")\n",
        "plt.bar(total+width,rec,width=width,label=\"Recovered\")\n",
        "plt.bar(total+width*2,death,width=width,label=\"Deaths\")\n",
        "\n",
        "plt.xlabel('Country')\n",
        "plt.xticks(total+width, top_20['Country'],rotation=90)\n",
        "plt.legend()\n"
      ],
      "execution_count": 8,
      "outputs": [
        {
          "output_type": "execute_result",
          "data": {
            "text/plain": [
              "<matplotlib.legend.Legend at 0x7f9f76c11bd0>"
            ]
          },
          "metadata": {
            "tags": []
          },
          "execution_count": 8
        },
        {
          "output_type": "display_data",
          "data": {
            "image/png": "[encoded data removed]",
            "text/plain": [
              "<Figure size 432x288 with 1 Axes>"
            ]
          },
          "metadata": {
            "tags": [],
            "needs_background": "light"
          }
        }
      ]
    },
    {
      "cell_type": "markdown",
      "metadata": {
        "id": "mZBd4quSmFC9"
      },
      "source": [
        "Task 2:\n",
        "\n",
        "1.     Your task is now to visualize the Covid spread in India from day 1 to present day using matplotlib library\n",
        "\n",
        "\n"
      ]
    },
    {
      "cell_type": "code",
      "metadata": {
        "id": "dmlAfQz8AgtZ"
      },
      "source": [
        "#Get the daily number of confirmed,death and recovered cases of India from df_world\n",
        "'''************************Your code here**********************'''\n",
        "df_india= df_world[df_world['Country']=='India']\n"
      ],
      "execution_count": 9,
      "outputs": []
    },
    {
      "cell_type": "code",
      "metadata": {
        "id": "yzPS29wSAmLz",
        "colab": {
          "base_uri": "https://localhost:8080/"
        },
        "outputId": "0906d52f-38ea-4e33-c209-e6daeae08fe9"
      },
      "source": [
        "print(df_india)"
      ],
      "execution_count": 10,
      "outputs": [
        {
          "output_type": "stream",
          "text": [
            "             Date Country  Confirmed  Recovered  Deaths\n",
            "35076  2020-01-22   India          0          0       0\n",
            "35077  2020-01-23   India          0          0       0\n",
            "35078  2020-01-24   India          0          0       0\n",
            "35079  2020-01-25   India          0          0       0\n",
            "35080  2020-01-26   India          0          0       0\n",
            "...           ...     ...        ...        ...     ...\n",
            "35515  2021-04-05   India   12686049   11732279  165547\n",
            "35516  2021-04-06   India   12801785   11792135  166177\n",
            "35517  2021-04-07   India   12928574   11851393  166862\n",
            "35518  2021-04-08   India   13060542   11913292  167642\n",
            "35519  2021-04-09   India   13060542   11913292  167642\n",
            "\n",
            "[444 rows x 5 columns]\n"
          ],
          "name": "stdout"
        }
      ]
    },
    {
      "cell_type": "code",
      "metadata": {
        "id": "YEOYMtlMHaiG",
        "colab": {
          "base_uri": "https://localhost:8080/",
          "height": 295
        },
        "outputId": "4dd22a6c-cef7-4932-d2e9-666903244049"
      },
      "source": [
        "'''Visualising\n",
        "************************\n",
        "As we just need a basic idea of how the trajectory of rise of covid cases in india we need not require these many data points so take a \n",
        "data point from each month and use for plotting below graphs\n",
        "\n",
        "Plot a graph with title 'Covid 19 Projection India' for Date(x-axis) vs Confirmed(y-axis)\n",
        "\n",
        "give x label 'Date'\n",
        "give y label 'Number of Confirmed Cases'\n",
        "\n",
        "'''\n",
        "\n",
        "#Get data point from each month and store in df_monthly\n",
        "df_monthly=df_india['Confirmed'][::30]\n",
        "months = df_india['Date'][::30]\n",
        "\n",
        "#graph\n",
        "plt.plot(months,df_monthly)\n",
        "\n",
        "#x-axis labels \n",
        "plt.xlabel('Date')\n",
        "#y-axis labels \n",
        "plt.ylabel('Number of Confirmed Cases')\n",
        "#plot title \n",
        "plt.title('Covid 19 Projection India')\n",
        "#save plot \n",
        "\n",
        "#display \n",
        "plt.show()\n"
      ],
      "execution_count": 17,
      "outputs": [
        {
          "output_type": "display_data",
          "data": {
            "image/png": "[encoded data removed]",
            "text/plain": [
              "<Figure size 432x288 with 1 Axes>"
            ]
          },
          "metadata": {
            "tags": [],
            "needs_background": "light"
          }
        }
      ]
    },
    {
      "cell_type": "code",
      "metadata": {
        "id": "KvXBt6tbHc5j",
        "colab": {
          "base_uri": "https://localhost:8080/",
          "height": 344
        },
        "outputId": "6cad53c8-0d88-4699-9d20-9f801c86c5a8"
      },
      "source": [
        "''' We get a Simple Plot on the execution of above code which looks like this where X-axis has Dates and Y-axis has Number of Confirmed cases. \n",
        "But this is not the best representation for large dataset values along the axes as you can see the ‘Dates’ are overlapping on X-axis.\n",
        "For this we use xticks() function go through about this and comment what it does'''\n",
        "\n",
        "#graph\n",
        "plt.plot(months,df_monthly)\n",
        "\n",
        "#x-axis labels \n",
        "plt.xlabel('Date')\n",
        "#y-axis labels \n",
        "plt.ylabel('Number of Confirmed Cases')\n",
        "#plot title \n",
        "plt.title('Covid 19 Projection India')\n",
        "#xticks \n",
        "plt.xticks(rotation = 75)\n",
        "\n",
        "#plot\n",
        "plt.show()\n",
        "\n",
        "\n"
      ],
      "execution_count": 21,
      "outputs": [
        {
          "output_type": "display_data",
          "data": {
            "image/png": "[encoded data removed]",
            "text/plain": [
              "<Figure size 432x288 with 1 Axes>"
            ]
          },
          "metadata": {
            "tags": [],
            "needs_background": "light"
          }
        }
      ]
    },
    {
      "cell_type": "code",
      "metadata": {
        "id": "BtkMmGo4LKxt"
      },
      "source": [
        ""
      ],
      "execution_count": 12,
      "outputs": []
    }
  ]
}
