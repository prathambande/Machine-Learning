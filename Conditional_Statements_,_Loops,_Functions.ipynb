{
  "nbformat": 4,
  "nbformat_minor": 0,
  "metadata": {
    "colab": {
      "name": "Conditional Statements ,  Loops, Functions",
      "provenance": []
    },
    "kernelspec": {
      "name": "python3",
      "display_name": "Python 3"
    },
    "language_info": {
      "name": "python"
    }
  },
  "cells": [
    {
      "cell_type": "markdown",
      "metadata": {
        "id": "-spWVBjGdwFZ"
      },
      "source": [
        "**Conditional Statements ,  Loops, Functions**\n",
        "Some random coding from the chap for assignment submission "
      ]
    },
    {
      "cell_type": "code",
      "metadata": {
        "id": "gsrU5gd1d6wT"
      },
      "source": [
        "person = {\"firstname\":\"Pratham\",\"lastname\":\"Bande\",\"Branch\":\"CSE\"}\n",
        "print(person['firstname'])\n",
        "print(person['lastname'])\n",
        "print(person['Branch'])"
      ],
      "execution_count": null,
      "outputs": []
    },
    {
      "cell_type": "markdown",
      "metadata": {
        "id": "ShhzcCmmeDfa"
      },
      "source": [
        "**Be a KIRA**"
      ]
    },
    {
      "cell_type": "code",
      "metadata": {
        "id": "PUa8xbpXd8dx"
      },
      "source": [
        "names = [\"abc\",\"bcd\",\"cde\",\"dfg\",\"pqr\",\"xyz\"]\n",
        "\n",
        "resp = input(\"You wanna kill(Yes or No) : \")\n",
        "resp = resp.upper()\n",
        "while resp == \"YES\":\n",
        "    for name in names:\n",
        "        print(name)\n",
        "\n",
        "    ans = input(\"KIRA, whom you want to kill ? $\")\n",
        "\n",
        "    if ans in names:\n",
        "        names.remove(ans)\n",
        "        print(\"Person Killed\")\n",
        "    else:\n",
        "            print(\"NOT IN LIST\")\n",
        "    \n",
        "    \n",
        "    resp = input(\"You wanna kill(Yes or No) : \")\n",
        "    resp = resp.upper()\n",
        "    \n",
        "    "
      ],
      "execution_count": null,
      "outputs": []
    },
    {
      "cell_type": "markdown",
      "metadata": {
        "id": "DKFYOtfCeJaQ"
      },
      "source": [
        "**GAME TO GUESS THE CORRECT LOCATION OF HASH GIVING 3 ATTEMPTS**"
      ]
    },
    {
      "cell_type": "code",
      "metadata": {
        "id": "cecXB9yFd-Yr"
      },
      "source": [
        "import time\n",
        "from random import shuffle\n",
        "\n",
        "def shuf():\n",
        "    print(\"Shuffling .......\")\n",
        "    time.sleep(2)\n",
        "    print(\"Shuffled\")\n",
        "\n",
        "def ask():\n",
        "    ans = input(\"YOur guess(0,1,2) : $ \")\n",
        "    return int(ans)\n",
        "\n",
        "def chek(jumb,guess):\n",
        "    if (jumb[guess] == '#'):\n",
        "        return True\n",
        "    return False\n",
        "\n",
        "def shuffle_list(mylist):\n",
        "    # Take in list, and returned shuffle versioned\n",
        "    shuffle(mylist)\n",
        "    \n",
        "    return mylist\n",
        "\n",
        "print(\"Wanna play a game ?????\")\n",
        "res = input(\"Yes or No ? $ \")\n",
        "res = res.upper()\n",
        "\n",
        "if res == \"NO\":\n",
        "    print(\"yOU CHOSE Death\")\n",
        "else:\n",
        "    print(\"GOOOOD, i like that spirit\")\n",
        "    print(\"You are given 3 chance, guess the correct location of hash in [' ','#',' ']\")\n",
        "    list = [' ', '#', ' ']\n",
        "    \n",
        "    for attemp in range(0,3):\n",
        "        shuf()\n",
        "        jumb = shuffle_list(list)\n",
        "        guess = ask()\n",
        "        result = chek(jumb, guess)\n",
        "        if(result):\n",
        "            print(\"you live\")\n",
        "            break\n",
        "      \n",
        "        else:\n",
        "            pass\n",
        "    if not result:\n",
        "        print(\"You die\")\n",
        "\n",
        "\n"
      ],
      "execution_count": null,
      "outputs": []
    }
  ]
}