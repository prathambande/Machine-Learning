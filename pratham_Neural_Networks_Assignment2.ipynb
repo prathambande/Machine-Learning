{
  "nbformat": 4,
  "nbformat_minor": 0,
  "metadata": {
    "colab": {
      "name": "Neural_Networks Assignment2.ipynb",
      "provenance": [],
      "collapsed_sections": []
    },
    "kernelspec": {
      "name": "python3",
      "display_name": "Python 3"
    },
    "language_info": {
      "name": "python"
    }
  },
  "cells": [
    {
      "cell_type": "code",
      "metadata": {
        "colab": {
          "base_uri": "https://localhost:8080/"
        },
        "id": "pSEHjGN9lskp",
        "outputId": "b01caf64-4f5b-4d2c-9b8a-4920f9d84850"
      },
      "source": [
        "# TensorFlow and tf.keras\n",
        "import tensorflow as tf\n",
        "from tensorflow import keras\n",
        "from tensorflow.keras.layers import Conv2D, MaxPooling2D, Dropout, Flatten, Dense\n",
        " \n",
        "# Commonly used modules\n",
        "import numpy as np\n",
        "import os\n",
        "import sys\n",
        " \n",
        "# Images, plots, display, and visualization\n",
        "import matplotlib.pyplot as plt\n",
        "import pandas as pd\n",
        "import seaborn as sns\n",
        "import cv2\n",
        "import IPython\n",
        "from six.moves import urllib\n",
        " \n",
        "print(tf.__version__)"
      ],
      "execution_count": 62,
      "outputs": [
        {
          "output_type": "stream",
          "text": [
            "2.5.0\n"
          ],
          "name": "stdout"
        }
      ]
    },
    {
      "cell_type": "markdown",
      "metadata": {
        "id": "rd12OoktrLlU"
      },
      "source": [
        "we are using inbuilt datatset in keras named boston housing, it contains various parameters in training data and the prices as labels\n"
      ]
    },
    {
      "cell_type": "markdown",
      "metadata": {
        "id": "f9Iub-oTsCD9"
      },
      "source": [
        "https://www.kaggle.com/prasadperera/the-boston-housing-dataset check out the datset here"
      ]
    },
    {
      "cell_type": "code",
      "metadata": {
        "id": "Kd_uRI0KndQE"
      },
      "source": [
        "(train_features, train_labels), (test_features, test_labels) = keras.datasets.boston_housing.load_data()\n",
        "\n",
        "# get per-feature statistics (mean, standard deviation) from the training set to normalize by\n",
        "train_mean = np.mean(train_features, axis=0)\n",
        "train_std =  np.std(train_features)                            # get np. std(standardad deviation of input features)\n",
        "train_features =  (train_features - train_mean)/train_std               #subtract mean and divide by standard deviation to normalise"
      ],
      "execution_count": 63,
      "outputs": []
    },
    {
      "cell_type": "code",
      "metadata": {
        "colab": {
          "base_uri": "https://localhost:8080/"
        },
        "id": "rsM42k21pguf",
        "outputId": "6c9e6a05-9572-46c0-a846-34444ab0d396"
      },
      "source": [
        "print(train_features)"
      ],
      "execution_count": 64,
      "outputs": [
        {
          "output_type": "stream",
          "text": [
            "[[-0.01740153 -0.07950719 -0.02053044 ...  0.01748027  0.29168408\n",
            "   0.04140939]\n",
            " [-0.02578635  0.49185431 -0.06284582 ... -0.02615097  0.28115717\n",
            "  -0.06669913]\n",
            " [ 0.00798597 -0.07950719  0.04844847 ...  0.01193979  0.14361488\n",
            "  -0.06566029]\n",
            " ...\n",
            " [-0.02569707  0.1628886  -0.03493568 ... -0.01091467  0.05171224\n",
            "  -0.03401032]\n",
            " [-0.01105277 -0.07950719  0.05869835 ... -0.02615097 -0.64292483\n",
            "   0.0211174 ]\n",
            " [-0.02583746  0.33602845 -0.05661279 ... -0.01991794  0.15178708\n",
            "  -0.05790362]]\n"
          ],
          "name": "stdout"
        }
      ]
    },
    {
      "cell_type": "markdown",
      "metadata": {
        "id": "jsEthsuoW2Sm"
      },
      "source": [
        "# Building the model"
      ]
    },
    {
      "cell_type": "markdown",
      "metadata": {
        "id": "NGWzNJriXa5k"
      },
      "source": [
        "Build the model\n",
        "Building the neural network requires configuring the layers of the model, then compiling the model. First we stack a few layers together using keras.Sequential. Next we configure the loss function, optimizer, and metrics to monitor. These are added during the model's compile step:\n",
        "\n",
        "Loss function - measures how accurate the model is during training, we want to minimize this with the optimizer.\n",
        "\n",
        "Optimizer - how the model is updated based on the data it sees and its loss function.\n",
        "\n",
        "Metrics - used to monitor the training and testing steps.\n",
        "\n",
        "Let's build a network with 1 hidden layer of 20 neurons, and use mean squared error (MSE) as the loss function (most common one for regression problems):"
      ]
    },
    {
      "cell_type": "markdown",
      "metadata": {
        "id": "6DtRcv8Na1kn"
      },
      "source": [
        "use activation function [relu](https://www.kaggle.com/dansbecker/rectified-linear-units-relu-in-deep-learning) as activation = tf.nn.relu\n",
        "\n",
        "input shape will be equal to number of columns in train_features\n",
        "\n",
        " use optimizer as  [adam](https://machinelearningmastery.com/adam-optimization-algorithm-for-deep-learning/)\n",
        "\n",
        " use loss as mse (mean squared error)"
      ]
    },
    {
      "cell_type": "code",
      "metadata": {
        "id": "RwUr6auenjps"
      },
      "source": [
        "def build_model():\n",
        "    model = keras.Sequential([\n",
        "        Dense(20, activation=tf.nn.relu , input_shape= np.shape(train_features[1])),\n",
        "        Dense(1)\n",
        "    ])\n",
        "\n",
        "    #print(np.shape(train_features))\n",
        "\n",
        "    model.compile(optimizer='adam',            \n",
        "                  loss='mse',\n",
        "                  metrics=['mae', 'mse'])\n",
        "    return model"
      ],
      "execution_count": 75,
      "outputs": []
    },
    {
      "cell_type": "markdown",
      "metadata": {
        "id": "fIAV7DmpffVK"
      },
      "source": [
        "# Training\n",
        " \n",
        "A very important part of training is when to [stop](https://machinelearningmastery.com/how-to-stop-training-deep-neural-networks-at-the-right-time-using-early-stopping/) here we are monitoring val_loss and stopping if the for 50 iterations accuracy doesnt improve\n",
        " \n",
        "set monitor to val_loss and set patience to 50\n",
        " \n",
        "in model.fit use training features and labels\n",
        " \n",
        "train till 1000 epochs\n",
        " \n",
        "use validation split of 0.1"
      ]
    },
    {
      "cell_type": "code",
      "metadata": {
        "colab": {
          "base_uri": "https://localhost:8080/"
        },
        "id": "dUKkD9wqn5Hn",
        "outputId": "ab118c9a-50f9-4ba3-b79c-f43d06c20e42"
      },
      "source": [
        "# this helps makes our output less verbose but still shows progress\n",
        "class PrintDot(keras.callbacks.Callback):\n",
        "    def on_epoch_end(self, epoch, logs):\n",
        "        if epoch % 100 == 0: print('')\n",
        "        print('.', end='')\n",
        " \n",
        "model = build_model()      #call the build_model function\n",
        " \n",
        "early_stop = keras.callbacks.EarlyStopping(monitor='val_loss', patience=50) \n",
        "history = model.fit(train_features, train_labels, epochs=1000, verbose=0, validation_split =0.1 ,\n",
        "                    callbacks=[early_stop, PrintDot()])\n",
        " \n",
        "hist = pd.DataFrame(history.history)\n",
        "hist['epoch'] = history.epoch\n",
        " \n",
        "# show RMSE\n",
        "rmse_final = np.sqrt(float(hist['val_mae'].tail(1)))\n",
        "print()\n",
        "print('Final Root Mean Square Error on validation set: {}'.format(round(rmse_final, 3)))"
      ],
      "execution_count": 76,
      "outputs": [
        {
          "output_type": "stream",
          "text": [
            "\n",
            "....................................................................................................\n",
            "....................................................................................................\n",
            "....................................................................................................\n",
            "..........................\n",
            "Final Root Mean Square Error on validation set: 1.722\n"
          ],
          "name": "stdout"
        }
      ]
    },
    {
      "cell_type": "code",
      "metadata": {
        "colab": {
          "base_uri": "https://localhost:8080/",
          "height": 283
        },
        "id": "f-7liYDeobwl",
        "outputId": "e5037b8c-b546-4d81-9d01-3a0947307714"
      },
      "source": [
        "def plot_history():\n",
        "    plt.figure()\n",
        "    plt.xlabel('Epoch')\n",
        "    plt.ylabel('Mean Square Error [Thousand Dollars$^2$]')\n",
        "    plt.plot(hist['epoch'], hist['val_mae'], label='Train Error')\n",
        "    plt.plot(hist['epoch'], hist['val_mse'], label = 'Val Error')\n",
        "    plt.legend()\n",
        "    plt.ylim([0,50])\n",
        "\n",
        "plot_history()"
      ],
      "execution_count": 73,
      "outputs": [
        {
          "output_type": "display_data",
          "data": {
            "image/png": "[encoded data removed]",
            "text/plain": [
              "<Figure size 432x288 with 1 Axes>"
            ]
          },
          "metadata": {
            "tags": [],
            "needs_background": "light"
          }
        }
      ]
    },
    {
      "cell_type": "markdown",
      "metadata": {
        "id": "uFv4ZzBns35U"
      },
      "source": [
        "Finally testing on the test dataset"
      ]
    },
    {
      "cell_type": "code",
      "metadata": {
        "colab": {
          "base_uri": "https://localhost:8080/"
        },
        "id": "5T92eH9Es9z9",
        "outputId": "5152bae4-25c3-4cfc-fe6e-757f1d7b3dd1"
      },
      "source": [
        "#see how we've normalised the test features using training mean and std and not\n",
        "#testing mean and std\n",
        "\n",
        "test_features_norm = (test_features - train_mean) / train_std\n",
        "\n",
        "\n",
        "mse, loss, mae = model.evaluate(test_features_norm, test_labels)\n",
        "rmse = np.sqrt(mse)\n",
        "print('Root Mean Square Error on test set: {}'.format(round(rmse, 3)))"
      ],
      "execution_count": 74,
      "outputs": [
        {
          "output_type": "stream",
          "text": [
            "4/4 [==============================] - 0s 5ms/step - loss: 35.0394 - mae: 4.1999 - mse: 35.0394\n",
            "Root Mean Square Error on test set: 5.919\n"
          ],
          "name": "stdout"
        }
      ]
    }
  ]
}