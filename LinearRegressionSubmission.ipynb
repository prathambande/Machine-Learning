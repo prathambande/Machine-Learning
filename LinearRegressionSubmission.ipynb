{
 "cells": [
  {
   "cell_type": "code",
   "execution_count": 41,
   "metadata": {
    "id": "sd6sUz9sZ7Cc"
   },
   "outputs": [],
   "source": [
    "import numpy as np\n",
    "import matplotlib.pyplot as plt"
   ]
  },
  {
   "cell_type": "code",
   "execution_count": 42,
   "metadata": {
    "id": "yGw7vk-5aXsg"
   },
   "outputs": [],
   "source": [
    "#write a function to fit a line :\n",
    "#epochs is the total number of passes of the training data in the algorithm\n",
    "#try various values of learning rate(alpha) and check how the model works by doing so\n",
    "def fit_line(x, y, alpha=0.01, epochs=1000):\n",
    "  '''\n",
    "    params:\n",
    "    ------\n",
    "      x : input data to the linear regression model\n",
    "      y : ground truth\n",
    "  '''\n",
    "  #initialize w0, w1 to be random values\n",
    "  w0 = 1\n",
    "  w1 = 1\n",
    "\n",
    "  for epoch in range(epochs):\n",
    "\n",
    "    #predicted value of y depending on x:\n",
    "    y_pred = w0 + (w1 * x)\n",
    "\n",
    "    #Calculate error in your predicted value (think about which error to calculate)\n",
    "    error = (np.sum(y_pred - y))\n",
    "\n",
    "    if epoch%5==0:\n",
    "      print(error)\n",
    "\n",
    "    #updating the weight(w1) and bias(w0) using gradient descent algorithm :\n",
    "    dw0 = (1/n)* alpha * np.sum(y_pred-y)\n",
    "    dw1 = (1/n)* alpha * np.sum(x*(y_pred-y))\n",
    "    w0 = w0 - dw0\n",
    "    w1 = w1 - dw1\n",
    "\n",
    "\n",
    "  return w0,w1"
   ]
  },
  {
   "cell_type": "code",
   "execution_count": 43,
   "metadata": {
    "id": "Wbkvagb5b0rK"
   },
   "outputs": [],
   "source": [
    "#Function to plot a line :\n",
    "def plot_line(x, y, w0, w1):\n",
    "\n",
    "  y_pred = w0 + w1*x\n",
    "\n",
    "  plt.plot(x, y)\n",
    "  plt.plot(x, y_pred)\n",
    "  plt.xlabel('Input (x)')\n",
    "  plt.ylabel('Output (y)')\n",
    "  plt.grid()\n",
    "  plt.title('Linear Regression')\n",
    "  plt.legend(['Actual', 'Predicted'])\n",
    "  plt.show()"
   ]
  },
  {
   "cell_type": "code",
   "execution_count": 44,
   "metadata": {
    "id": "uQHUSXNtcYhv"
   },
   "outputs": [],
   "source": [
    "#data we are using here\n",
    "x = np.arange(0, 1, 1e-1)\n",
    "\n",
    "y = 3*x + 7"
   ]
  },
  {
   "cell_type": "code",
   "execution_count": 45,
   "metadata": {
    "colab": {
     "base_uri": "https://localhost:8080/"
    },
    "id": "u1H0xrxMejj8",
    "outputId": "4ae281de-d49f-4498-bfe3-b03c58c54d08"
   },
   "outputs": [
    {
     "name": "stdout",
     "output_type": "stream",
     "text": [
      "-69.0\n",
      "-64.91489869456075\n",
      "-61.07239683244903\n",
      "-57.45808478230762\n",
      "-54.05840880736129\n",
      "-50.86062022747824\n",
      "-47.852727600874815\n",
      "-45.02345174610377\n",
      "-42.36218343562125\n",
      "-39.85894360224707\n",
      "-37.50434590925907\n",
      "-35.289561543727835\n",
      "-33.20628610103678\n",
      "-31.2467084363768\n",
      "-29.40348136638209\n",
      "-27.669694111013555\n",
      "-26.03884637232362\n",
      "-24.504823952875753\n",
      "-23.061875822367366\n",
      "-21.70459254643623\n",
      "-20.427885996740645\n",
      "-19.2269702662085\n",
      "-18.09734371787163\n",
      "-17.034772099953365\n",
      "-16.035272663876363\n",
      "-15.095099225620112\n",
      "-14.210728114395382\n",
      "-13.378844955931335\n",
      "-12.596332240801418\n",
      "-11.860257631158744\n",
      "-11.167862962021458\n",
      "-10.51655389585338\n",
      "-9.903890191636071\n",
      "-9.327576551932982\n",
      "-8.78545401361447\n",
      "-8.27549184995169\n",
      "-7.795779953705278\n",
      "-7.3445216726389795\n",
      "-6.920027070585327\n",
      "-6.5207065887868945\n",
      "-6.1450650837373475\n",
      "-5.791696219159586\n",
      "-5.459277191085906\n",
      "-5.146563766254906\n",
      "-4.8523856152147955\n",
      "-4.575641922628442\n",
      "-4.31529725831498\n",
      "-4.070377693540976\n",
      "-3.83996714799387\n",
      "-3.623203953735863\n",
      "-3.4192776232500703\n",
      "-3.2274258094564603\n",
      "-3.046931446295001\n",
      "-2.877120059150873\n",
      "-2.7173572350334405\n",
      "-2.567046243020199\n",
      "-2.4256257960400465\n",
      "-2.2925679456011085\n",
      "-2.1673761015661777\n",
      "-2.049583169548381\n",
      "-1.9387497989408624\n",
      "-1.834462735008926\n",
      "-1.736333268863679\n",
      "-1.6439957795032614\n",
      "-1.557106362453058\n",
      "-1.475341539861236\n",
      "-1.3983970472111578\n",
      "-1.3259866921000718\n",
      "-1.2578412808033432\n",
      "-1.1937076085980562\n",
      "-1.1333475100587664\n",
      "-1.0765369657632178\n",
      "-1.0230652620575365\n",
      "-0.9727342007290831\n",
      "-0.9253573556228165\n",
      "-0.8807593734126433\n",
      "-0.8387753159052158\n",
      "-0.7992500414091159\n",
      "-0.7620376228492445\n",
      "-0.7270008004435446\n",
      "-0.6940104668894866\n",
      "-0.6629451831289961\n",
      "-0.6336907228758468\n",
      "-0.6061396441968077\n",
      "-0.5801908865399037\n",
      "-0.5557493916980114\n",
      "-0.5327257472863742\n",
      "-0.5110358513965618\n",
      "-0.4906005971691192\n",
      "-0.4713455761018146\n",
      "-0.45320079898059706\n",
      "-0.43610043338651927\n",
      "-0.41998255679409\n",
      "-0.4047889243349472\n",
      "-0.3904647503557639\n",
      "-0.37695850295102495\n",
      "-0.36422171070007003\n",
      "-0.35220878088341045\n",
      "-0.3408768284965582\n",
      "-0.3301855154200064\n",
      "-0.3200968991420057\n",
      "-0.31057529046692434\n",
      "-0.3015871196753217\n",
      "-0.29310081063372895\n",
      "-0.2850866623820014\n",
      "-0.2775167377541399\n",
      "-0.2703647586146323\n",
      "-0.2636060073175823\n",
      "-0.25721723401882546\n",
      "-0.25117656949352973\n",
      "-0.2454634431321896\n",
      "-0.24005850580737675\n",
      "-0.23494355732211059\n",
      "-0.23010147816752724\n",
      "-0.22551616533402186\n",
      "-0.22117247193494993\n",
      "-0.2170561504166102\n",
      "-0.21315379914139232\n",
      "-0.20945281214368983\n",
      "-0.2059413318702079\n",
      "-0.20260820472741958\n",
      "-0.19944293926933465\n",
      "-0.19643566686874525\n",
      "-0.19357710472467726\n",
      "-0.1908585210668683\n",
      "-0.18827170242717184\n",
      "-0.18580892285492734\n",
      "-0.18346291496078848\n",
      "-0.1812268426805641\n",
      "-0.17909427565666558\n",
      "-0.1770591651414053\n",
      "-0.1751158213314694\n",
      "-0.17325889204863199\n",
      "-0.17148334268690224\n",
      "-0.16978443735061965\n",
      "-0.16815772111298077\n",
      "-0.1665990033282876\n",
      "-0.16510434193554158\n",
      "-0.16367002869412062\n",
      "-0.1622925752967186\n",
      "-0.16096870030683252\n",
      "-0.15969531687240046\n",
      "-0.15846952116896418\n",
      "-0.1572885815294649\n",
      "-0.1561499282196257\n",
      "-0.15505114382061702\n",
      "-0.15398995418300832\n",
      "-0.152964219918025\n",
      "-0.1519719283941532\n",
      "-0.15101118620919785\n",
      "-0.15008021210943756\n",
      "-0.14917733032930247\n",
      "-0.14830096432675877\n",
      "-0.14744963089075735\n",
      "-0.1466219345985964\n",
      "-0.14581656260265063\n",
      "-0.14503227972663701\n",
      "-0.1442679238531719\n",
      "-0.14352240158529828\n",
      "-0.1427946841657226\n",
      "-0.1420838036383989\n",
      "-0.14138884923816608\n",
      "-0.14070896399474098\n",
      "-0.14004334153843434\n",
      "-0.13939122309569552\n",
      "-0.13875189466301663\n",
      "-0.13812468434866787\n",
      "-0.13750895987244593\n",
      "-0.13690412621383885\n",
      "-0.13630962339985597\n",
      "-0.13572492442434925\n",
      "-0.13514953329083657\n",
      "-0.13458298317157524\n",
      "-0.13402483467605641\n",
      "-0.13347467422226433\n",
      "-0.13293211250467163\n",
      "-0.13239678305330838\n",
      "-0.13186834087830235\n",
      "-0.13134646119508187\n",
      "-0.13083083822508268\n",
      "-0.13032118406790882\n",
      "-0.129817227640312\n",
      "-0.12931871367829917\n",
      "-0.12882540179843804\n",
      "-0.12833706561493585\n",
      "-0.12785349190919337\n",
      "-0.12737447984862715\n",
      "-0.12689984025194523\n",
      "-0.12642939489799598\n",
      "-0.12596297587570593\n",
      "-0.12550042497265768\n",
      "-0.12504159309989138\n",
      "-0.12458633975096056\n",
      "-0.12413453249309025\n",
      "-0.12368604648845061\n",
      "-0.12324076404408668\n",
      "-0.12279857418834084\n",
      "-0.12235937227258553\n",
      "-0.12192305959656036\n",
      "-0.12148954305591442\n"
     ]
    }
   ],
   "source": [
    "w0, w1 = fit_line(x, y)"
   ]
  },
  {
   "cell_type": "code",
   "execution_count": 46,
   "metadata": {
    "colab": {
     "base_uri": "https://localhost:8080/"
    },
    "id": "-K5NxW9MekHy",
    "outputId": "ddec0280-18d5-424d-f22c-a16fd534664b"
   },
   "outputs": [
    {
     "data": {
      "text/plain": [
       "6.821847186559376"
      ]
     },
     "execution_count": 46,
     "metadata": {},
     "output_type": "execute_result"
    }
   ],
   "source": [
    "w0"
   ]
  },
  {
   "cell_type": "code",
   "execution_count": 47,
   "metadata": {
    "colab": {
     "base_uri": "https://localhost:8080/"
    },
    "id": "YQ3ZWYZXe0Xy",
    "outputId": "cbde98ec-21aa-4426-e96b-b2cd70f3d02b"
   },
   "outputs": [
    {
     "data": {
      "text/plain": [
       "3.3689931999100944"
      ]
     },
     "execution_count": 47,
     "metadata": {},
     "output_type": "execute_result"
    }
   ],
   "source": [
    "w1"
   ]
  },
  {
   "cell_type": "code",
   "execution_count": 48,
   "metadata": {
    "colab": {
     "base_uri": "https://localhost:8080/",
     "height": 295
    },
    "id": "5_A887WBgGmB",
    "outputId": "4c16d669-7980-46ce-ce46-7b70ba030050"
   },
   "outputs": [
    {
     "data": {
      "image/png": "[encoded data removed]",
      "text/plain": [
       "<Figure size 432x288 with 1 Axes>"
      ]
     },
     "metadata": {
      "needs_background": "light"
     },
     "output_type": "display_data"
    }
   ],
   "source": [
    "plot_line(x, y, w0, w1)"
   ]
  },
  {
   "cell_type": "code",
   "execution_count": null,
   "metadata": {
    "id": "n5dr6_NPgIkv"
   },
   "outputs": [],
   "source": []
  }
 ],
 "metadata": {
  "colab": {
   "collapsed_sections": [],
   "name": "LinearRegression.ipynb",
   "provenance": []
  },
  "kernelspec": {
   "display_name": "Python 3",
   "language": "python",
   "name": "python3"
  },
  "language_info": {
   "codemirror_mode": {
    "name": "ipython",
    "version": 3
   },
   "file_extension": ".py",
   "mimetype": "text/x-python",
   "name": "python",
   "nbconvert_exporter": "python",
   "pygments_lexer": "ipython3",
   "version": "3.8.5"
  }
 },
 "nbformat": 4,
 "nbformat_minor": 1
}
