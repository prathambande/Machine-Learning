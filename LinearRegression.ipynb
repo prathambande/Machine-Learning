{
  "nbformat": 4,
  "nbformat_minor": 0,
  "metadata": {
    "colab": {
      "name": "LinearRegression.ipynb",
      "provenance": [],
      "collapsed_sections": []
    },
    "kernelspec": {
      "name": "python3",
      "display_name": "Python 3"
    },
    "language_info": {
      "name": "python"
    }
  },
  "cells": [
    {
      "cell_type": "code",
      "metadata": {
        "id": "sd6sUz9sZ7Cc"
      },
      "source": [
        "import numpy as np\n",
        "import matplotlib.pyplot as plt"
      ],
      "execution_count": null,
      "outputs": []
    },
    {
      "cell_type": "code",
      "metadata": {
        "id": "yGw7vk-5aXsg"
      },
      "source": [
        "#write a function to fit a line :\n",
        "#epochs is the total number of passes of the training data in the algorithm\n",
        "#try various values of learning rate(alpha) and check how the model works by doing so\n",
        "def fit_line(x, y, alpha=0.1, epochs=100):\n",
        "  '''\n",
        "    params:\n",
        "    ------\n",
        "      x : input data to the linear regression model\n",
        "      y : ground truth\n",
        "  '''\n",
        "  #initialize w0, w1 to be random values\n",
        "  w0 = \n",
        "  w1 = \n",
        "\n",
        "  for epoch in range(epochs):\n",
        "\n",
        "    #predicted value of y depending on x:\n",
        "    y_pred = \n",
        "\n",
        "    #Calculate error in your predicted value (think about which error to calculate)\n",
        "    error = \n",
        "\n",
        "    if epoch%5==0:\n",
        "      print(error)\n",
        "\n",
        "    #updating the weight(w1) and bias(w0) using gradient descent algorithm :\n",
        "    w0 = \n",
        "    w1 = \n",
        "\n",
        "\n",
        "  return w0,w1"
      ],
      "execution_count": null,
      "outputs": []
    },
    {
      "cell_type": "code",
      "metadata": {
        "id": "Wbkvagb5b0rK"
      },
      "source": [
        "#Function to plot a line :\n",
        "def plot_line(x, y, w0, w1):\n",
        "\n",
        "  y_pred = w0 + w1*x\n",
        "\n",
        "  plt.plot(x, y)\n",
        "  plt.plot(x, y_pred)\n",
        "  plt.xlabel('Input (x)')\n",
        "  plt.ylabel('Output (y)')\n",
        "  plt.grid()\n",
        "  plt.title('Linear Regression')\n",
        "  plt.legend(['Actual', 'Predicted'])\n",
        "  plt.show()"
      ],
      "execution_count": null,
      "outputs": []
    },
    {
      "cell_type": "code",
      "metadata": {
        "id": "uQHUSXNtcYhv"
      },
      "source": [
        "#data we are using here\n",
        "x = np.arange(0, 1, 1e-1)\n",
        "\n",
        "y = 3*x + 7"
      ],
      "execution_count": null,
      "outputs": []
    },
    {
      "cell_type": "code",
      "metadata": {
        "colab": {
          "base_uri": "https://localhost:8080/"
        },
        "id": "u1H0xrxMejj8",
        "outputId": "4ae281de-d49f-4498-bfe3-b03c58c54d08"
      },
      "source": [
        "w0, w1 = fit_line(x, y)"
      ],
      "execution_count": null,
      "outputs": [
        {
          "output_type": "stream",
          "text": [
            "2422.1333266863894\n",
            "662.7012760487289\n",
            "182.1234320536846\n",
            "50.803520644273036\n",
            "14.870218925641275\n",
            "4.991426814123223\n",
            "2.23237659062715\n",
            "1.421736145863473\n",
            "1.1469600874025274\n",
            "1.022037916751906\n",
            "0.9413201059781777\n",
            "0.8757383494321281\n",
            "0.8171527041183718\n",
            "0.7631519674404118\n",
            "0.7129018184739928\n",
            "0.6660101397153562\n",
            "0.62221637856986\n",
            "0.5813060024978768\n",
            "0.5430864734954606\n",
            "0.5073800670037807\n"
          ],
          "name": "stdout"
        }
      ]
    },
    {
      "cell_type": "code",
      "metadata": {
        "colab": {
          "base_uri": "https://localhost:8080/"
        },
        "id": "-K5NxW9MekHy",
        "outputId": "ddec0280-18d5-424d-f22c-a16fd534664b"
      },
      "source": [
        "w0"
      ],
      "execution_count": null,
      "outputs": [
        {
          "output_type": "execute_result",
          "data": {
            "text/plain": [
              "6.83740189986573"
            ]
          },
          "metadata": {
            "tags": []
          },
          "execution_count": 101
        }
      ]
    },
    {
      "cell_type": "code",
      "metadata": {
        "colab": {
          "base_uri": "https://localhost:8080/"
        },
        "id": "YQ3ZWYZXe0Xy",
        "outputId": "cbde98ec-21aa-4426-e96b-b2cd70f3d02b"
      },
      "source": [
        "w1"
      ],
      "execution_count": null,
      "outputs": [
        {
          "output_type": "execute_result",
          "data": {
            "text/plain": [
              "3.336805744612915"
            ]
          },
          "metadata": {
            "tags": []
          },
          "execution_count": 102
        }
      ]
    },
    {
      "cell_type": "code",
      "metadata": {
        "colab": {
          "base_uri": "https://localhost:8080/",
          "height": 295
        },
        "id": "5_A887WBgGmB",
        "outputId": "4c16d669-7980-46ce-ce46-7b70ba030050"
      },
      "source": [
        "plot_line(x, y, w0, w1)"
      ],
      "execution_count": null,
      "outputs": [
        {
          "output_type": "display_data",
          "data": {
            "image/png": "[encoded data removed]",
            "text/plain": [
              "<Figure size 432x288 with 1 Axes>"
            ]
          },
          "metadata": {
            "tags": [],
            "needs_background": "light"
          }
        }
      ]
    },
    {
      "cell_type": "code",
      "metadata": {
        "id": "n5dr6_NPgIkv"
      },
      "source": [
        ""
      ],
      "execution_count": null,
      "outputs": []
    }
  ]
}